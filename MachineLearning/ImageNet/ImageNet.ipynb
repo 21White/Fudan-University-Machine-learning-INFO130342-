{
 "cells": [
  {
   "cell_type": "markdown",
   "metadata": {},
   "source": [
    "读取CIFAR-10数据"
   ]
  },
  {
   "cell_type": "code",
   "execution_count": null,
   "metadata": {},
   "outputs": [
    {
     "name": "stdout",
     "output_type": "stream",
     "text": [
      "Downloading https://www.cs.toronto.edu/~kriz/cifar-10-python.tar.gz to ./data\\cifar-10-python.tar.gz\n"
     ]
    },
    {
     "name": "stderr",
     "output_type": "stream",
     "text": [
      "100%|██████████| 170M/170M [00:53<00:00, 3.17MB/s] \n"
     ]
    },
    {
     "name": "stdout",
     "output_type": "stream",
     "text": [
      "Extracting ./data\\cifar-10-python.tar.gz to ./data\n",
      "Files already downloaded and verified\n"
     ]
    }
   ],
   "source": [
    "import torch\n",
    "import torch.nn as nn\n",
    "import torch.optim as optim\n",
    "from torch.utils.data import DataLoader\n",
    "from torchvision import datasets, models, transforms\n",
    "\n",
    "transform = transforms.Compose([\n",
    "    transforms.Resize(224), #与ImageNet数据集的尺寸一致\n",
    "    transforms.ToTensor(),\n",
    "    transforms.Normalize((0.4914, 0.4822, 0.4465),\n",
    "                         (0.2023, 0.1994, 0.2010)),\n",
    "])\n",
    "\n",
    "batch_size = 64\n",
    "\n",
    "trainset = datasets.CIFAR10(\n",
    "    root='./data', train=True, download=True, transform=transform)\n",
    "trainloader = torch.utils.data.DataLoader(\n",
    "    trainset, batch_size=batch_size, shuffle=True, num_workers=2)\n",
    "\n",
    "testset = datasets.CIFAR10(\n",
    "    root='./data', train=False, download=True, transform=transform)\n",
    "testloader = torch.utils.data.DataLoader(\n",
    "    testset, batch_size=batch_size, shuffle=False, num_workers=2)\n"
   ]
  },
  {
   "cell_type": "markdown",
   "metadata": {},
   "source": [
    "使用预训练的ResNet"
   ]
  },
  {
   "cell_type": "code",
   "execution_count": 7,
   "metadata": {},
   "outputs": [],
   "source": [
    "# 加载预训练的ResNet模型\n",
    "model = models.resnet18(pretrained=True)\n",
    "\n",
    "# 冻结所有卷积层的参数(减少计算量)\n",
    "for param in model.parameters():\n",
    "    param.requires_grad = False\n",
    "\n",
    "# 替换最后一层全连接层以适应新的分类任务\n",
    "num_ftrs = model.fc.in_features\n",
    "model.fc = nn.Linear(num_ftrs, len(trainset.classes))\n",
    "\n",
    "# 将模型移动到GPU（如果可用）\n",
    "device = torch.device(\"cuda:0\" if torch.cuda.is_available() else \"cpu\")\n",
    "model = model.to(device)\n",
    "\n",
    "# 定义损失函数和优化器\n",
    "criterion = nn.CrossEntropyLoss()\n",
    "optimizer = optim.SGD(model.fc.parameters(), lr=0.001, momentum=0.9)"
   ]
  },
  {
   "cell_type": "markdown",
   "metadata": {},
   "source": [
    "训练并测试"
   ]
  },
  {
   "cell_type": "code",
   "execution_count": 10,
   "metadata": {},
   "outputs": [
    {
     "name": "stdout",
     "output_type": "stream",
     "text": [
      "Epoch 1\n",
      "-------------------------------\n",
      "loss: 0.703250  [   64/50000]\n",
      "loss: 0.645929  [ 6464/50000]\n",
      "loss: 0.639983  [12864/50000]\n",
      "loss: 0.320120  [19264/50000]\n",
      "loss: 0.549756  [25664/50000]\n",
      "loss: 0.350397  [32064/50000]\n",
      "loss: 0.387203  [38464/50000]\n",
      "loss: 0.355298  [44864/50000]\n",
      "Test Error: \n",
      " Accuracy: 80.7%, Avg loss: 0.568583 \n",
      "\n",
      "Epoch 2\n",
      "-------------------------------\n",
      "loss: 0.421394  [   64/50000]\n",
      "loss: 0.792328  [ 6464/50000]\n",
      "loss: 0.658402  [12864/50000]\n",
      "loss: 0.579646  [19264/50000]\n",
      "loss: 0.572500  [25664/50000]\n",
      "loss: 0.459337  [32064/50000]\n",
      "loss: 0.404759  [38464/50000]\n",
      "loss: 0.536964  [44864/50000]\n",
      "Test Error: \n",
      " Accuracy: 81.0%, Avg loss: 0.562279 \n",
      "\n",
      "Epoch 3\n",
      "-------------------------------\n",
      "loss: 0.683687  [   64/50000]\n",
      "loss: 0.598157  [ 6464/50000]\n",
      "loss: 0.458683  [12864/50000]\n",
      "loss: 0.407793  [19264/50000]\n",
      "loss: 0.650905  [25664/50000]\n",
      "loss: 0.515264  [32064/50000]\n",
      "loss: 0.521758  [38464/50000]\n",
      "loss: 0.311819  [44864/50000]\n",
      "Test Error: \n",
      " Accuracy: 80.8%, Avg loss: 0.562382 \n",
      "\n",
      "Epoch 4\n",
      "-------------------------------\n",
      "loss: 0.402225  [   64/50000]\n",
      "loss: 0.553895  [ 6464/50000]\n",
      "loss: 0.567193  [12864/50000]\n",
      "loss: 0.383654  [19264/50000]\n",
      "loss: 0.620051  [25664/50000]\n",
      "loss: 0.563502  [32064/50000]\n",
      "loss: 0.493365  [38464/50000]\n",
      "loss: 0.822711  [44864/50000]\n",
      "Test Error: \n",
      " Accuracy: 80.9%, Avg loss: 0.563585 \n",
      "\n",
      "Epoch 5\n",
      "-------------------------------\n",
      "loss: 0.274145  [   64/50000]\n",
      "loss: 0.662326  [ 6464/50000]\n",
      "loss: 0.764895  [12864/50000]\n",
      "loss: 0.425009  [19264/50000]\n",
      "loss: 0.416635  [25664/50000]\n",
      "loss: 0.351524  [32064/50000]\n",
      "loss: 0.785168  [38464/50000]\n",
      "loss: 0.454910  [44864/50000]\n",
      "Test Error: \n",
      " Accuracy: 80.9%, Avg loss: 0.558058 \n",
      "\n",
      "Done!\n"
     ]
    }
   ],
   "source": [
    "device = torch.device(\"cuda\" if torch.cuda.is_available() else \"cpu\")\n",
    "\n",
    "def train_loop(dataloader, model, loss_fn, optimizer):\n",
    "    size = len(dataloader.dataset)\n",
    "    model.train()\n",
    "    for batch, (X, y) in enumerate(dataloader):\n",
    "        X, y = X.to(device), y.to(device)\n",
    "        optimizer.zero_grad()\n",
    "        pred = model(X)\n",
    "        loss = loss_fn(pred, y)\n",
    "        loss.backward()\n",
    "        optimizer.step()\n",
    "\n",
    "        if batch % 100 == 0:\n",
    "            loss, current = loss.item(), batch * batch_size + len(X)\n",
    "            print(f\"loss: {loss:>7f}  [{current:>5d}/{size:>5d}]\")\n",
    "\n",
    "\n",
    "def test_loop(dataloader, model, loss_fn):\n",
    "    model.eval()\n",
    "    size = len(dataloader.dataset)\n",
    "    num_batches = len(dataloader)\n",
    "    test_loss, correct = 0, 0\n",
    "\n",
    "    with torch.no_grad():\n",
    "        for X, y in dataloader:\n",
    "            X, y = X.to(device), y.to(device)\n",
    "            pred = model(X)\n",
    "            test_loss += loss_fn(pred, y).item()\n",
    "            correct += (pred.argmax(1) == y).type(torch.float).sum().item()\n",
    "\n",
    "    test_loss /= num_batches\n",
    "    correct /= size\n",
    "    print(f\"Test Error: \\n Accuracy: {(100*correct):>0.1f}%, Avg loss: {test_loss:>8f} \\n\")\n",
    "\n",
    "model.to(device)\n",
    "\n",
    "epochs = 5\n",
    "for t in range(epochs):\n",
    "    print(f\"Epoch {t+1}\\n-------------------------------\")\n",
    "    train_loop(trainloader, model, criterion, optimizer)\n",
    "    test_loop(testloader, model, criterion)\n",
    "print(\"Done!\")"
   ]
  }
 ],
 "metadata": {
  "kernelspec": {
   "display_name": "torch",
   "language": "python",
   "name": "python3"
  },
  "language_info": {
   "codemirror_mode": {
    "name": "ipython",
    "version": 3
   },
   "file_extension": ".py",
   "mimetype": "text/x-python",
   "name": "python",
   "nbconvert_exporter": "python",
   "pygments_lexer": "ipython3",
   "version": "3.10.15"
  }
 },
 "nbformat": 4,
 "nbformat_minor": 2
}
